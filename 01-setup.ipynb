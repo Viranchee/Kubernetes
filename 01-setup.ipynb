{
 "cells": [
  {
   "cell_type": "code",
   "execution_count": null,
   "metadata": {},
   "outputs": [],
   "source": [
    "!sudo apt install snapd"
   ]
  },
  {
   "cell_type": "code",
   "execution_count": null,
   "metadata": {},
   "outputs": [],
   "source": [
    "!sudo snap install microk8s --classic\n"
   ]
  },
  {
   "cell_type": "code",
   "execution_count": 7,
   "metadata": {},
   "outputs": [],
   "source": [
    "!sudo usermod -a -G microk8s $USER"
   ]
  },
  {
   "cell_type": "code",
   "execution_count": 8,
   "metadata": {},
   "outputs": [],
   "source": [
    "!mkdir ~/.kube\n",
    "!sudo chown -f -R $USER ~/.kube"
   ]
  },
  {
   "cell_type": "code",
   "execution_count": 12,
   "metadata": {},
   "outputs": [
    {
     "name": "stdout",
     "output_type": "stream",
     "text": [
      "\u001b[?2004h\u001b]0;vlotia@vclvm178-146: ~/kubernetes/setup\u0007\u001b[01;32mvlotia@vclvm178-146\u001b[00m:\u001b[01;34m~/kubernetes/setup\u001b[00m$ ^C\u001b[?2004l\n",
      "\u001b[?2004l\n",
      "\u001b[?2004h\u001b]0;vlotia@vclvm178-146: ~/kubernetes/setup\u0007\u001b[01;32mvlotia@vclvm178-146\u001b[00m:\u001b[01;34m~/kubernetes/setup\u001b[00m$ "
     ]
    }
   ],
   "source": [
    "!newgrp microk8s"
   ]
  },
  {
   "cell_type": "code",
   "execution_count": 17,
   "metadata": {},
   "outputs": [
    {
     "name": "stdout",
     "output_type": "stream",
     "text": [
      "Insufficient permissions to access MicroK8s.\n",
      "You can either try again with sudo or add the user vlotia to the 'microk8s' group:\n",
      "\n",
      "    sudo usermod -a -G microk8s vlotia\n",
      "    sudo chown -R vlotia ~/.kube\n",
      "\n",
      "After this, reload the user groups either via a reboot or by running 'newgrp microk8s'.\n"
     ]
    }
   ],
   "source": [
    "!microk8s status --wait-ready"
   ]
  },
  {
   "cell_type": "code",
   "execution_count": 18,
   "metadata": {},
   "outputs": [
    {
     "name": "stdout",
     "output_type": "stream",
     "text": [
      "Insufficient permissions to access MicroK8s.\n",
      "You can either try again with sudo or add the user vlotia to the 'microk8s' group:\n",
      "\n",
      "    sudo usermod -a -G microk8s vlotia\n",
      "    sudo chown -R vlotia ~/.kube\n",
      "\n",
      "After this, reload the user groups either via a reboot or by running 'newgrp microk8s'.\n"
     ]
    }
   ],
   "source": [
    "!microk8s enable dashboard dns ingress"
   ]
  },
  {
   "cell_type": "code",
   "execution_count": 15,
   "metadata": {},
   "outputs": [],
   "source": [
    "!sudo chown -R vlotia ~/.kube\n"
   ]
  },
  {
   "cell_type": "code",
   "execution_count": 21,
   "metadata": {},
   "outputs": [
    {
     "name": "stdout",
     "output_type": "stream",
     "text": [
      "/home/vlotia/kubernetes/setup\n"
     ]
    }
   ],
   "source": [
    "!pwd"
   ]
  }
 ],
 "metadata": {
  "kernelspec": {
   "display_name": "Python 3 (ipykernel)",
   "language": "python",
   "name": "python3"
  },
  "language_info": {
   "codemirror_mode": {
    "name": "ipython",
    "version": 3
   },
   "file_extension": ".py",
   "mimetype": "text/x-python",
   "name": "python",
   "nbconvert_exporter": "python",
   "pygments_lexer": "ipython3",
   "version": "3.10.12"
  }
 },
 "nbformat": 4,
 "nbformat_minor": 2
}
