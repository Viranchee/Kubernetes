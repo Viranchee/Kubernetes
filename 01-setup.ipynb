{
 "cells": [
  {
   "cell_type": "markdown",
   "metadata": {},
   "source": [
    "Following [this video](https://www.youtube.com/watch?v=KE7tlO5d1Es&pp=ygUoa2Vsc2V5IGhpZ2h0b3dlciBrdWJlcm5ldGVzIHRoZSBoYXJkIHdheQ%3D%3D)"
   ]
  },
  {
   "cell_type": "code",
   "execution_count": null,
   "metadata": {},
   "outputs": [],
   "source": [
    "!sudo apt install snapd"
   ]
  },
  {
   "cell_type": "code",
   "execution_count": null,
   "metadata": {},
   "outputs": [],
   "source": [
    "!sudo snap install microk8s --classic\n"
   ]
  },
  {
   "cell_type": "code",
   "execution_count": 7,
   "metadata": {},
   "outputs": [],
   "source": [
    "!sudo usermod -a -G microk8s $USER"
   ]
  },
  {
   "cell_type": "code",
   "execution_count": 8,
   "metadata": {},
   "outputs": [],
   "source": [
    "!mkdir ~/.kube\n",
    "!sudo chown -f -R $USER ~/.kube"
   ]
  },
  {
   "cell_type": "code",
   "execution_count": 12,
   "metadata": {},
   "outputs": [
    {
     "name": "stdout",
     "output_type": "stream",
     "text": [
      "\u001b[?2004h\u001b]0;vlotia@vclvm178-146: ~/kubernetes/setup\u0007\u001b[01;32mvlotia@vclvm178-146\u001b[00m:\u001b[01;34m~/kubernetes/setup\u001b[00m$ ^C\u001b[?2004l\n",
      "\u001b[?2004l\n",
      "\u001b[?2004h\u001b]0;vlotia@vclvm178-146: ~/kubernetes/setup\u0007\u001b[01;32mvlotia@vclvm178-146\u001b[00m:\u001b[01;34m~/kubernetes/setup\u001b[00m$ "
     ]
    }
   ],
   "source": [
    "!newgrp microk8s"
   ]
  },
  {
   "cell_type": "code",
   "execution_count": 17,
   "metadata": {},
   "outputs": [
    {
     "name": "stdout",
     "output_type": "stream",
     "text": [
      "Insufficient permissions to access MicroK8s.\n",
      "You can either try again with sudo or add the user vlotia to the 'microk8s' group:\n",
      "\n",
      "    sudo usermod -a -G microk8s vlotia\n",
      "    sudo chown -R vlotia ~/.kube\n",
      "\n",
      "After this, reload the user groups either via a reboot or by running 'newgrp microk8s'.\n"
     ]
    }
   ],
   "source": [
    "!microk8s status --wait-ready"
   ]
  },
  {
   "cell_type": "code",
   "execution_count": 18,
   "metadata": {},
   "outputs": [
    {
     "name": "stdout",
     "output_type": "stream",
     "text": [
      "Insufficient permissions to access MicroK8s.\n",
      "You can either try again with sudo or add the user vlotia to the 'microk8s' group:\n",
      "\n",
      "    sudo usermod -a -G microk8s vlotia\n",
      "    sudo chown -R vlotia ~/.kube\n",
      "\n",
      "After this, reload the user groups either via a reboot or by running 'newgrp microk8s'.\n"
     ]
    }
   ],
   "source": [
    "!microk8s enable dashboard dns ingress"
   ]
  },
  {
   "cell_type": "code",
   "execution_count": 15,
   "metadata": {},
   "outputs": [],
   "source": [
    "!sudo chown -R vlotia ~/.kube\n"
   ]
  },
  {
   "cell_type": "code",
   "execution_count": 21,
   "metadata": {},
   "outputs": [
    {
     "name": "stdout",
     "output_type": "stream",
     "text": [
      "/home/vlotia/kubernetes/setup\n"
     ]
    }
   ],
   "source": [
    "!pwd"
   ]
  },
  {
   "cell_type": "code",
   "execution_count": 1,
   "metadata": {},
   "outputs": [
    {
     "name": "stdout",
     "output_type": "stream",
     "text": [
      "Architecture:            x86_64\n",
      "  CPU op-mode(s):        32-bit, 64-bit\n",
      "  Address sizes:         46 bits physical, 48 bits virtual\n",
      "  Byte Order:            Little Endian\n",
      "CPU(s):                  16\n",
      "  On-line CPU(s) list:   0-15\n",
      "Vendor ID:               GenuineIntel\n",
      "  Model name:            Intel Core Processor (Haswell, IBRS)\n",
      "    CPU family:          6\n",
      "    Model:               60\n",
      "    Thread(s) per core:  1\n",
      "    Core(s) per socket:  8\n",
      "    Socket(s):           2\n",
      "    Stepping:            4\n",
      "    BogoMIPS:            4988.04\n",
      "    Flags:               fpu vme de pse tsc msr pae mce cx8 apic sep mtrr pge mc\n",
      "                         a cmov pat pse36 clflush mmx fxsr sse sse2 ss ht syscal\n",
      "                         l nx pdpe1gb rdtscp lm constant_tsc rep_good nopl xtopo\n",
      "                         logy cpuid tsc_known_freq pni pclmulqdq vmx ssse3 fma c\n",
      "                         x16 pcid sse4_1 sse4_2 x2apic movbe popcnt tsc_deadline\n",
      "                         _timer aes xsave avx f16c rdrand hypervisor lahf_lm abm\n",
      "                          cpuid_fault invpcid_single pti ssbd ibrs ibpb stibp tp\n",
      "                         r_shadow vnmi flexpriority ept vpid ept_ad fsgsbase tsc\n",
      "                         _adjust bmi1 hle avx2 smep bmi2 erms invpcid rtm xsaveo\n",
      "                         pt arat umip md_clear flush_l1d arch_capabilities\n",
      "Virtualization features: \n",
      "  Virtualization:        VT-x\n",
      "  Hypervisor vendor:     KVM\n",
      "  Virtualization type:   full\n",
      "Caches (sum of all):     \n",
      "  L1d:                   512 KiB (16 instances)\n",
      "  L1i:                   512 KiB (16 instances)\n",
      "  L2:                    64 MiB (16 instances)\n",
      "  L3:                    32 MiB (2 instances)\n",
      "NUMA:                    \n",
      "  NUMA node(s):          1\n",
      "  NUMA node0 CPU(s):     0-15\n",
      "Vulnerabilities:         \n",
      "  Gather data sampling:  Not affected\n",
      "  Itlb multihit:         Not affected\n",
      "  L1tf:                  Mitigation; PTE Inversion; VMX flush not necessary, SMT\n",
      "                          disabled\n",
      "  Mds:                   Mitigation; Clear CPU buffers; SMT Host state unknown\n",
      "  Meltdown:              Mitigation; PTI\n",
      "  Mmio stale data:       Unknown: No mitigations\n",
      "  Retbleed:              Not affected\n",
      "  Spec rstack overflow:  Not affected\n",
      "  Spec store bypass:     Mitigation; Speculative Store Bypass disabled via prctl\n",
      "                          and seccomp\n",
      "  Spectre v1:            Mitigation; usercopy/swapgs barriers and __user pointer\n",
      "                          sanitization\n",
      "  Spectre v2:            Mitigation; Retpolines, IBPB conditional, IBRS_FW, STIB\n",
      "                         P disabled, RSB filling, PBRSB-eIBRS Not affected\n",
      "  Srbds:                 Unknown: Dependent on hypervisor status\n",
      "  Tsx async abort:       Mitigation; Clear CPU buffers; SMT Host state unknown\n"
     ]
    }
   ],
   "source": [
    "!lscpu"
   ]
  },
  {
   "cell_type": "markdown",
   "metadata": {},
   "source": [
    "Azure: 250$ free credits for 30 days\n",
    "\n",
    "1 control plane, 2 worker nodes\n",
    "Azure limits to 3 VMs\n",
    "\n",
    "CIDR: used to assign pod IP address\n",
    "Clusder CIDR, ServiceCluster CIDR\n"
   ]
  },
  {
   "cell_type": "markdown",
   "metadata": {},
   "source": []
  }
 ],
 "metadata": {
  "kernelspec": {
   "display_name": "Python 3 (ipykernel)",
   "language": "python",
   "name": "python3"
  },
  "language_info": {
   "codemirror_mode": {
    "name": "ipython",
    "version": 3
   },
   "file_extension": ".py",
   "mimetype": "text/x-python",
   "name": "python",
   "nbconvert_exporter": "python",
   "pygments_lexer": "ipython3",
   "version": "3.10.12"
  }
 },
 "nbformat": 4,
 "nbformat_minor": 2
}
